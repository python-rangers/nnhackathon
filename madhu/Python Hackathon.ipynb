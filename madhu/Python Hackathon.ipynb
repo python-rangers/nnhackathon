{
 "cells": [
  {
   "cell_type": "code",
   "execution_count": 130,
   "id": "1b094cd3",
   "metadata": {},
   "outputs": [],
   "source": [
    "import pandas as pd\n",
    "import numpy as np\n",
    "import matplotlib as mpl\n",
    "import matplotlib.pyplot as plt\n",
    "import seaborn as sns"
   ]
  },
  {
   "cell_type": "code",
   "execution_count": 8,
   "id": "501b29ef",
   "metadata": {},
   "outputs": [
    {
     "data": {
      "text/html": [
       "<div>\n",
       "<style scoped>\n",
       "    .dataframe tbody tr th:only-of-type {\n",
       "        vertical-align: middle;\n",
       "    }\n",
       "\n",
       "    .dataframe tbody tr th {\n",
       "        vertical-align: top;\n",
       "    }\n",
       "\n",
       "    .dataframe thead th {\n",
       "        text-align: right;\n",
       "    }\n",
       "</style>\n",
       "<table border=\"1\" class=\"dataframe\">\n",
       "  <thead>\n",
       "    <tr style=\"text-align: right;\">\n",
       "      <th></th>\n",
       "      <th>PatientID</th>\n",
       "      <th>FirstName</th>\n",
       "      <th>LastName</th>\n",
       "      <th>DateOfBirth</th>\n",
       "      <th>Gender</th>\n",
       "      <th>Race</th>\n",
       "      <th>Language</th>\n",
       "    </tr>\n",
       "  </thead>\n",
       "  <tbody>\n",
       "    <tr>\n",
       "      <th>0</th>\n",
       "      <td>1</td>\n",
       "      <td>Lanni</td>\n",
       "      <td>Sue</td>\n",
       "      <td>1960-01-01 00:00:00.000</td>\n",
       "      <td>Male</td>\n",
       "      <td>White</td>\n",
       "      <td>English</td>\n",
       "    </tr>\n",
       "    <tr>\n",
       "      <th>1</th>\n",
       "      <td>2</td>\n",
       "      <td>Far</td>\n",
       "      <td>Myers</td>\n",
       "      <td>1985-11-15 02:08:42.090</td>\n",
       "      <td>Male</td>\n",
       "      <td>White</td>\n",
       "      <td>English</td>\n",
       "    </tr>\n",
       "    <tr>\n",
       "      <th>2</th>\n",
       "      <td>3</td>\n",
       "      <td>Devlin</td>\n",
       "      <td>Michael</td>\n",
       "      <td>1976-04-15 02:52:09.762</td>\n",
       "      <td>Male</td>\n",
       "      <td>White</td>\n",
       "      <td>English</td>\n",
       "    </tr>\n",
       "    <tr>\n",
       "      <th>3</th>\n",
       "      <td>4</td>\n",
       "      <td>Carmine</td>\n",
       "      <td>Texas</td>\n",
       "      <td>1968-10-15 03:32:13.635</td>\n",
       "      <td>Male</td>\n",
       "      <td>White</td>\n",
       "      <td>English</td>\n",
       "    </tr>\n",
       "    <tr>\n",
       "      <th>4</th>\n",
       "      <td>5</td>\n",
       "      <td>Tann</td>\n",
       "      <td>Bama</td>\n",
       "      <td>1962-05-01 19:12:58.950</td>\n",
       "      <td>Male</td>\n",
       "      <td>White</td>\n",
       "      <td>English</td>\n",
       "    </tr>\n",
       "    <tr>\n",
       "      <th>...</th>\n",
       "      <td>...</td>\n",
       "      <td>...</td>\n",
       "      <td>...</td>\n",
       "      <td>...</td>\n",
       "      <td>...</td>\n",
       "      <td>...</td>\n",
       "      <td>...</td>\n",
       "    </tr>\n",
       "    <tr>\n",
       "      <th>940</th>\n",
       "      <td>941</td>\n",
       "      <td>Wat</td>\n",
       "      <td>Fideler</td>\n",
       "      <td>1986-05-26 00:01:19.761</td>\n",
       "      <td>Male</td>\n",
       "      <td>Black/African-American</td>\n",
       "      <td>English</td>\n",
       "    </tr>\n",
       "    <tr>\n",
       "      <th>941</th>\n",
       "      <td>942</td>\n",
       "      <td>Wandie</td>\n",
       "      <td>Baythrop</td>\n",
       "      <td>1970-06-10 21:41:03.814</td>\n",
       "      <td>Male</td>\n",
       "      <td>Black/African-American</td>\n",
       "      <td>English</td>\n",
       "    </tr>\n",
       "    <tr>\n",
       "      <th>942</th>\n",
       "      <td>943</td>\n",
       "      <td>Diahann</td>\n",
       "      <td>Smeeton</td>\n",
       "      <td>1983-01-08 21:49:27.884</td>\n",
       "      <td>Male</td>\n",
       "      <td>Black/African-American</td>\n",
       "      <td>English</td>\n",
       "    </tr>\n",
       "    <tr>\n",
       "      <th>943</th>\n",
       "      <td>944</td>\n",
       "      <td>Panchito</td>\n",
       "      <td>Sharple</td>\n",
       "      <td>1963-06-05 07:57:05.569</td>\n",
       "      <td>Male</td>\n",
       "      <td>Black/African-American</td>\n",
       "      <td>English</td>\n",
       "    </tr>\n",
       "    <tr>\n",
       "      <th>944</th>\n",
       "      <td>945</td>\n",
       "      <td>Walsh</td>\n",
       "      <td>Calvie</td>\n",
       "      <td>1972-08-06 03:40:03.454</td>\n",
       "      <td>Male</td>\n",
       "      <td>Black/African-American</td>\n",
       "      <td>English</td>\n",
       "    </tr>\n",
       "  </tbody>\n",
       "</table>\n",
       "<p>945 rows × 7 columns</p>\n",
       "</div>"
      ],
      "text/plain": [
       "     PatientID FirstName  LastName             DateOfBirth Gender  \\\n",
       "0            1     Lanni       Sue 1960-01-01 00:00:00.000   Male   \n",
       "1            2       Far     Myers 1985-11-15 02:08:42.090   Male   \n",
       "2            3   Devlin    Michael 1976-04-15 02:52:09.762   Male   \n",
       "3            4   Carmine     Texas 1968-10-15 03:32:13.635   Male   \n",
       "4            5     Tann       Bama 1962-05-01 19:12:58.950   Male   \n",
       "..         ...       ...       ...                     ...    ...   \n",
       "940        941       Wat   Fideler 1986-05-26 00:01:19.761   Male   \n",
       "941        942    Wandie  Baythrop 1970-06-10 21:41:03.814   Male   \n",
       "942        943   Diahann   Smeeton 1983-01-08 21:49:27.884   Male   \n",
       "943        944  Panchito   Sharple 1963-06-05 07:57:05.569   Male   \n",
       "944        945     Walsh    Calvie 1972-08-06 03:40:03.454   Male   \n",
       "\n",
       "                       Race Language  \n",
       "0                     White  English  \n",
       "1                     White  English  \n",
       "2                     White  English  \n",
       "3                     White  English  \n",
       "4                     White  English  \n",
       "..                      ...      ...  \n",
       "940  Black/African-American  English  \n",
       "941  Black/African-American  English  \n",
       "942  Black/African-American  English  \n",
       "943  Black/African-American  English  \n",
       "944  Black/African-American  English  \n",
       "\n",
       "[945 rows x 7 columns]"
      ]
     },
     "execution_count": 8,
     "metadata": {},
     "output_type": "execute_result"
    }
   ],
   "source": [
    "df=pd.read_excel('C:\\\\Users\\\\nvv29\\\\Downloads\\\\HospitalDatabase.xlsx',sheet_name='Patients')\n",
    "df"
   ]
  },
  {
   "cell_type": "markdown",
   "id": "c59c49d5",
   "metadata": {},
   "source": [
    "### 2.Using iloc, retrieve the firstname and lastname of patients between indices 101 and 200"
   ]
  },
  {
   "cell_type": "code",
   "execution_count": 25,
   "id": "5d41e2a9",
   "metadata": {},
   "outputs": [
    {
     "data": {
      "text/html": [
       "<div>\n",
       "<style scoped>\n",
       "    .dataframe tbody tr th:only-of-type {\n",
       "        vertical-align: middle;\n",
       "    }\n",
       "\n",
       "    .dataframe tbody tr th {\n",
       "        vertical-align: top;\n",
       "    }\n",
       "\n",
       "    .dataframe thead th {\n",
       "        text-align: right;\n",
       "    }\n",
       "</style>\n",
       "<table border=\"1\" class=\"dataframe\">\n",
       "  <thead>\n",
       "    <tr style=\"text-align: right;\">\n",
       "      <th></th>\n",
       "      <th>FirstName</th>\n",
       "      <th>LastName</th>\n",
       "    </tr>\n",
       "  </thead>\n",
       "  <tbody>\n",
       "    <tr>\n",
       "      <th>101</th>\n",
       "      <td>Gipsy</td>\n",
       "      <td>Frankton</td>\n",
       "    </tr>\n",
       "    <tr>\n",
       "      <th>102</th>\n",
       "      <td>Jethro</td>\n",
       "      <td>Wharin</td>\n",
       "    </tr>\n",
       "    <tr>\n",
       "      <th>103</th>\n",
       "      <td>Viv</td>\n",
       "      <td>Aylward</td>\n",
       "    </tr>\n",
       "    <tr>\n",
       "      <th>104</th>\n",
       "      <td>Swift</td>\n",
       "      <td>Dreschler</td>\n",
       "    </tr>\n",
       "    <tr>\n",
       "      <th>105</th>\n",
       "      <td>Fadel</td>\n",
       "      <td>Jacquemard</td>\n",
       "    </tr>\n",
       "    <tr>\n",
       "      <th>...</th>\n",
       "      <td>...</td>\n",
       "      <td>...</td>\n",
       "    </tr>\n",
       "    <tr>\n",
       "      <th>195</th>\n",
       "      <td>Cathlene</td>\n",
       "      <td>Kidwell</td>\n",
       "    </tr>\n",
       "    <tr>\n",
       "      <th>196</th>\n",
       "      <td>Noam</td>\n",
       "      <td>Laguerre</td>\n",
       "    </tr>\n",
       "    <tr>\n",
       "      <th>197</th>\n",
       "      <td>Arie</td>\n",
       "      <td>Bayless</td>\n",
       "    </tr>\n",
       "    <tr>\n",
       "      <th>198</th>\n",
       "      <td>Janaye</td>\n",
       "      <td>O'Mohun</td>\n",
       "    </tr>\n",
       "    <tr>\n",
       "      <th>199</th>\n",
       "      <td>Fonz</td>\n",
       "      <td>Group</td>\n",
       "    </tr>\n",
       "  </tbody>\n",
       "</table>\n",
       "<p>99 rows × 2 columns</p>\n",
       "</div>"
      ],
      "text/plain": [
       "    FirstName    LastName\n",
       "101     Gipsy    Frankton\n",
       "102    Jethro      Wharin\n",
       "103       Viv     Aylward\n",
       "104     Swift   Dreschler\n",
       "105     Fadel  Jacquemard\n",
       "..        ...         ...\n",
       "195  Cathlene     Kidwell\n",
       "196      Noam    Laguerre\n",
       "197      Arie     Bayless\n",
       "198    Janaye     O'Mohun\n",
       "199      Fonz       Group\n",
       "\n",
       "[99 rows x 2 columns]"
      ]
     },
     "execution_count": 25,
     "metadata": {},
     "output_type": "execute_result"
    }
   ],
   "source": [
    "\n",
    " \n",
    "df1 = df.iloc[101 : 200,1:3];\n",
    "df1"
   ]
  },
  {
   "cell_type": "markdown",
   "id": "df95e096",
   "metadata": {},
   "source": [
    "### 6.Create a jointplot on expected mortality & expected length of stay"
   ]
  },
  {
   "cell_type": "code",
   "execution_count": 45,
   "id": "60e6e07d",
   "metadata": {},
   "outputs": [
    {
     "data": {
      "image/png": "[encoded data removed]",
      "text/plain": [
       "<Figure size 432x432 with 3 Axes>"
      ]
     },
     "metadata": {
      "needs_background": "light"
     },
     "output_type": "display_data"
    }
   ],
   "source": [
    "\n",
    "df2 = pd.read_excel('C:\\\\Users\\\\nvv29\\\\Downloads\\\\HospitalDatabase.xlsx',sheet_name='Discharges')\n",
    "g= sns.jointplot(x=\"ExpectedLOS\", y=\"ExpectedMortality\", data = df2)\n"
   ]
  },
  {
   "cell_type": "code",
   "execution_count": null,
   "id": "a60cc13c",
   "metadata": {},
   "outputs": [],
   "source": [
    "### 10.Create a boxplot on ExpectedLOS by taking service into account"
   ]
  },
  {
   "cell_type": "code",
   "execution_count": 51,
   "id": "9de0120c",
   "metadata": {},
   "outputs": [
    {
     "data": {
      "image/png": "[encoded data removed]",
      "text/plain": [
       "<Figure size 432x288 with 1 Axes>"
      ]
     },
     "metadata": {
      "needs_background": "light"
     },
     "output_type": "display_data"
    }
   ],
   "source": [
    "\n",
    "df2 = pd.read_excel('C:\\\\Users\\\\nvv29\\\\Downloads\\\\HospitalDatabase.xlsx',sheet_name='Discharges')\n",
    "g=sns.boxplot(x='Service', y='ExpectedLOS', data=df2, width = 1.0)"
   ]
  },
  {
   "cell_type": "code",
   "execution_count": null,
   "id": "f504c34c",
   "metadata": {},
   "outputs": [],
   "source": [
    "### 8.Create a bar chart between expectedLOS & Primary diagnosis"
   ]
  },
  {
   "cell_type": "code",
   "execution_count": 54,
   "id": "73528846",
   "metadata": {},
   "outputs": [
    {
     "data": {
      "image/png": "[encoded data removed]",
      "text/plain": [
       "<Figure size 432x288 with 1 Axes>"
      ]
     },
     "metadata": {
      "needs_background": "light"
     },
     "output_type": "display_data"
    }
   ],
   "source": [
    "\n",
    "df2 = pd.read_excel('C:\\\\Users\\\\nvv29\\\\Downloads\\\\HospitalDatabase.xlsx',sheet_name='Discharges')\n",
    "g=sns.barplot(x='ExpectedLOS',y='PrimaryDiagnosis',  data=df2)"
   ]
  },
  {
   "cell_type": "code",
   "execution_count": null,
   "id": "8cd63646",
   "metadata": {},
   "outputs": [],
   "source": [
    "### 14.Find the number of null values in BloodPressureSystolic column"
   ]
  },
  {
   "cell_type": "code",
   "execution_count": 59,
   "id": "73d10091",
   "metadata": {},
   "outputs": [
    {
     "data": {
      "text/plain": [
       "124"
      ]
     },
     "execution_count": 59,
     "metadata": {},
     "output_type": "execute_result"
    }
   ],
   "source": [
    "\n",
    "df3=pd.read_excel('C:\\\\Users\\\\nvv29\\\\Downloads\\\\HospitalDatabase.xlsx',sheet_name='AmbulatoryVisits')\n",
    "count= df3[\"BloodPressureSystolic\"].isna().sum()\n",
    "count"
   ]
  },
  {
   "cell_type": "code",
   "execution_count": null,
   "id": "3e56c471",
   "metadata": {},
   "outputs": [],
   "source": [
    "### 18.Add column 'Age' in Patient table"
   ]
  },
  {
   "cell_type": "code",
   "execution_count": 68,
   "id": "84820ecc",
   "metadata": {},
   "outputs": [
    {
     "data": {
      "text/html": [
       "<div>\n",
       "<style scoped>\n",
       "    .dataframe tbody tr th:only-of-type {\n",
       "        vertical-align: middle;\n",
       "    }\n",
       "\n",
       "    .dataframe tbody tr th {\n",
       "        vertical-align: top;\n",
       "    }\n",
       "\n",
       "    .dataframe thead th {\n",
       "        text-align: right;\n",
       "    }\n",
       "</style>\n",
       "<table border=\"1\" class=\"dataframe\">\n",
       "  <thead>\n",
       "    <tr style=\"text-align: right;\">\n",
       "      <th></th>\n",
       "      <th>Age</th>\n",
       "      <th>PatientID</th>\n",
       "      <th>FirstName</th>\n",
       "      <th>LastName</th>\n",
       "      <th>DateOfBirth</th>\n",
       "      <th>Gender</th>\n",
       "      <th>Race</th>\n",
       "      <th>Language</th>\n",
       "    </tr>\n",
       "  </thead>\n",
       "  <tbody>\n",
       "    <tr>\n",
       "      <th>0</th>\n",
       "      <td>None</td>\n",
       "      <td>1</td>\n",
       "      <td>Lanni</td>\n",
       "      <td>Sue</td>\n",
       "      <td>1960-01-01 00:00:00.000</td>\n",
       "      <td>Male</td>\n",
       "      <td>White</td>\n",
       "      <td>English</td>\n",
       "    </tr>\n",
       "    <tr>\n",
       "      <th>1</th>\n",
       "      <td>None</td>\n",
       "      <td>2</td>\n",
       "      <td>Far</td>\n",
       "      <td>Myers</td>\n",
       "      <td>1985-11-15 02:08:42.090</td>\n",
       "      <td>Male</td>\n",
       "      <td>White</td>\n",
       "      <td>English</td>\n",
       "    </tr>\n",
       "    <tr>\n",
       "      <th>2</th>\n",
       "      <td>None</td>\n",
       "      <td>3</td>\n",
       "      <td>Devlin</td>\n",
       "      <td>Michael</td>\n",
       "      <td>1976-04-15 02:52:09.762</td>\n",
       "      <td>Male</td>\n",
       "      <td>White</td>\n",
       "      <td>English</td>\n",
       "    </tr>\n",
       "    <tr>\n",
       "      <th>3</th>\n",
       "      <td>None</td>\n",
       "      <td>4</td>\n",
       "      <td>Carmine</td>\n",
       "      <td>Texas</td>\n",
       "      <td>1968-10-15 03:32:13.635</td>\n",
       "      <td>Male</td>\n",
       "      <td>White</td>\n",
       "      <td>English</td>\n",
       "    </tr>\n",
       "    <tr>\n",
       "      <th>4</th>\n",
       "      <td>None</td>\n",
       "      <td>5</td>\n",
       "      <td>Tann</td>\n",
       "      <td>Bama</td>\n",
       "      <td>1962-05-01 19:12:58.950</td>\n",
       "      <td>Male</td>\n",
       "      <td>White</td>\n",
       "      <td>English</td>\n",
       "    </tr>\n",
       "    <tr>\n",
       "      <th>...</th>\n",
       "      <td>...</td>\n",
       "      <td>...</td>\n",
       "      <td>...</td>\n",
       "      <td>...</td>\n",
       "      <td>...</td>\n",
       "      <td>...</td>\n",
       "      <td>...</td>\n",
       "      <td>...</td>\n",
       "    </tr>\n",
       "    <tr>\n",
       "      <th>940</th>\n",
       "      <td>None</td>\n",
       "      <td>941</td>\n",
       "      <td>Wat</td>\n",
       "      <td>Fideler</td>\n",
       "      <td>1986-05-26 00:01:19.761</td>\n",
       "      <td>Male</td>\n",
       "      <td>Black/African-American</td>\n",
       "      <td>English</td>\n",
       "    </tr>\n",
       "    <tr>\n",
       "      <th>941</th>\n",
       "      <td>None</td>\n",
       "      <td>942</td>\n",
       "      <td>Wandie</td>\n",
       "      <td>Baythrop</td>\n",
       "      <td>1970-06-10 21:41:03.814</td>\n",
       "      <td>Male</td>\n",
       "      <td>Black/African-American</td>\n",
       "      <td>English</td>\n",
       "    </tr>\n",
       "    <tr>\n",
       "      <th>942</th>\n",
       "      <td>None</td>\n",
       "      <td>943</td>\n",
       "      <td>Diahann</td>\n",
       "      <td>Smeeton</td>\n",
       "      <td>1983-01-08 21:49:27.884</td>\n",
       "      <td>Male</td>\n",
       "      <td>Black/African-American</td>\n",
       "      <td>English</td>\n",
       "    </tr>\n",
       "    <tr>\n",
       "      <th>943</th>\n",
       "      <td>None</td>\n",
       "      <td>944</td>\n",
       "      <td>Panchito</td>\n",
       "      <td>Sharple</td>\n",
       "      <td>1963-06-05 07:57:05.569</td>\n",
       "      <td>Male</td>\n",
       "      <td>Black/African-American</td>\n",
       "      <td>English</td>\n",
       "    </tr>\n",
       "    <tr>\n",
       "      <th>944</th>\n",
       "      <td>None</td>\n",
       "      <td>945</td>\n",
       "      <td>Walsh</td>\n",
       "      <td>Calvie</td>\n",
       "      <td>1972-08-06 03:40:03.454</td>\n",
       "      <td>Male</td>\n",
       "      <td>Black/African-American</td>\n",
       "      <td>English</td>\n",
       "    </tr>\n",
       "  </tbody>\n",
       "</table>\n",
       "<p>945 rows × 8 columns</p>\n",
       "</div>"
      ],
      "text/plain": [
       "      Age  PatientID FirstName  LastName             DateOfBirth Gender  \\\n",
       "0    None          1     Lanni       Sue 1960-01-01 00:00:00.000   Male   \n",
       "1    None          2       Far     Myers 1985-11-15 02:08:42.090   Male   \n",
       "2    None          3   Devlin    Michael 1976-04-15 02:52:09.762   Male   \n",
       "3    None          4   Carmine     Texas 1968-10-15 03:32:13.635   Male   \n",
       "4    None          5     Tann       Bama 1962-05-01 19:12:58.950   Male   \n",
       "..    ...        ...       ...       ...                     ...    ...   \n",
       "940  None        941       Wat   Fideler 1986-05-26 00:01:19.761   Male   \n",
       "941  None        942    Wandie  Baythrop 1970-06-10 21:41:03.814   Male   \n",
       "942  None        943   Diahann   Smeeton 1983-01-08 21:49:27.884   Male   \n",
       "943  None        944  Panchito   Sharple 1963-06-05 07:57:05.569   Male   \n",
       "944  None        945     Walsh    Calvie 1972-08-06 03:40:03.454   Male   \n",
       "\n",
       "                       Race Language  \n",
       "0                     White  English  \n",
       "1                     White  English  \n",
       "2                     White  English  \n",
       "3                     White  English  \n",
       "4                     White  English  \n",
       "..                      ...      ...  \n",
       "940  Black/African-American  English  \n",
       "941  Black/African-American  English  \n",
       "942  Black/African-American  English  \n",
       "943  Black/African-American  English  \n",
       "944  Black/African-American  English  \n",
       "\n",
       "[945 rows x 8 columns]"
      ]
     },
     "execution_count": 68,
     "metadata": {},
     "output_type": "execute_result"
    }
   ],
   "source": [
    "\n",
    "df=pd.read_excel('C:\\\\Users\\\\nvv29\\\\Downloads\\\\HospitalDatabase.xlsx',sheet_name='Patients')\n",
    "df.insert(0, \"Age\",None , True)\n",
    "df"
   ]
  },
  {
   "cell_type": "code",
   "execution_count": null,
   "id": "d4e6d96b",
   "metadata": {},
   "outputs": [],
   "source": [
    "###22. Create a dataframe with acuity and EDDisposition as the indices and the count of number of patients as the value"
   ]
  },
  {
   "cell_type": "code",
   "execution_count": 77,
   "id": "549dc14a",
   "metadata": {},
   "outputs": [
    {
     "data": {
      "text/html": [
       "<div>\n",
       "<style scoped>\n",
       "    .dataframe tbody tr th:only-of-type {\n",
       "        vertical-align: middle;\n",
       "    }\n",
       "\n",
       "    .dataframe tbody tr th {\n",
       "        vertical-align: top;\n",
       "    }\n",
       "\n",
       "    .dataframe thead th {\n",
       "        text-align: right;\n",
       "    }\n",
       "</style>\n",
       "<table border=\"1\" class=\"dataframe\">\n",
       "  <thead>\n",
       "    <tr style=\"text-align: right;\">\n",
       "      <th></th>\n",
       "      <th></th>\n",
       "      <th>EDVisitID</th>\n",
       "      <th>PatientID</th>\n",
       "      <th>VisitDate</th>\n",
       "      <th>EDDischargeTime</th>\n",
       "      <th>ReasonForVisit</th>\n",
       "    </tr>\n",
       "    <tr>\n",
       "      <th>Acuity</th>\n",
       "      <th>EDDisposition</th>\n",
       "      <th></th>\n",
       "      <th></th>\n",
       "      <th></th>\n",
       "      <th></th>\n",
       "      <th></th>\n",
       "    </tr>\n",
       "  </thead>\n",
       "  <tbody>\n",
       "    <tr>\n",
       "      <th>1</th>\n",
       "      <th>Admitted</th>\n",
       "      <td>1</td>\n",
       "      <td>1</td>\n",
       "      <td>2020-01-01 00:00:00.000</td>\n",
       "      <td>2020-01-01 11:20:22.924</td>\n",
       "      <td>Stomach Ache</td>\n",
       "    </tr>\n",
       "    <tr>\n",
       "      <th>2</th>\n",
       "      <th>Admitted</th>\n",
       "      <td>12</td>\n",
       "      <td>12</td>\n",
       "      <td>2020-01-01 02:45:40.302</td>\n",
       "      <td>2020-01-02 02:00:00.517</td>\n",
       "      <td>Migraine</td>\n",
       "    </tr>\n",
       "    <tr>\n",
       "      <th rowspan=\"3\" valign=\"top\">3</th>\n",
       "      <th>Admitted</th>\n",
       "      <td>13</td>\n",
       "      <td>13</td>\n",
       "      <td>2020-01-01 03:09:24.701</td>\n",
       "      <td>2020-01-01 05:00:20.852</td>\n",
       "      <td>Stomach Ache</td>\n",
       "    </tr>\n",
       "    <tr>\n",
       "      <th>Admitted</th>\n",
       "      <td>14</td>\n",
       "      <td>14</td>\n",
       "      <td>2020-01-01 03:12:19.349</td>\n",
       "      <td>2020-01-01 04:32:29.142</td>\n",
       "      <td>Migraine</td>\n",
       "    </tr>\n",
       "    <tr>\n",
       "      <th>Admitted</th>\n",
       "      <td>15</td>\n",
       "      <td>15</td>\n",
       "      <td>2020-01-01 03:46:32.698</td>\n",
       "      <td>2020-01-01 06:24:52.741</td>\n",
       "      <td>Chest Pain</td>\n",
       "    </tr>\n",
       "    <tr>\n",
       "      <th>...</th>\n",
       "      <th>...</th>\n",
       "      <td>...</td>\n",
       "      <td>...</td>\n",
       "      <td>...</td>\n",
       "      <td>...</td>\n",
       "      <td>...</td>\n",
       "    </tr>\n",
       "    <tr>\n",
       "      <th>4</th>\n",
       "      <th>Discharged</th>\n",
       "      <td>1183</td>\n",
       "      <td>929</td>\n",
       "      <td>2020-01-15 10:38:42.570</td>\n",
       "      <td>2020-01-16 02:31:52.023</td>\n",
       "      <td>Chest Pain</td>\n",
       "    </tr>\n",
       "    <tr>\n",
       "      <th rowspan=\"4\" valign=\"top\">1</th>\n",
       "      <th>Discharged</th>\n",
       "      <td>1186</td>\n",
       "      <td>932</td>\n",
       "      <td>2020-01-15 11:52:37.540</td>\n",
       "      <td>2020-01-16 10:19:41.570</td>\n",
       "      <td>Pneumonia</td>\n",
       "    </tr>\n",
       "    <tr>\n",
       "      <th>Discharged</th>\n",
       "      <td>1187</td>\n",
       "      <td>933</td>\n",
       "      <td>2020-01-15 12:11:11.678</td>\n",
       "      <td>2020-01-15 16:41:15.223</td>\n",
       "      <td>Pneumonia</td>\n",
       "    </tr>\n",
       "    <tr>\n",
       "      <th>Discharged</th>\n",
       "      <td>1188</td>\n",
       "      <td>934</td>\n",
       "      <td>2020-01-15 12:21:46.006</td>\n",
       "      <td>2020-01-15 18:32:21.060</td>\n",
       "      <td>Pneumonia</td>\n",
       "    </tr>\n",
       "    <tr>\n",
       "      <th>Discharged</th>\n",
       "      <td>1189</td>\n",
       "      <td>935</td>\n",
       "      <td>2020-01-15 12:51:14.875</td>\n",
       "      <td>2020-01-15 23:40:41.456</td>\n",
       "      <td>Pneumonia</td>\n",
       "    </tr>\n",
       "  </tbody>\n",
       "</table>\n",
       "<p>1199 rows × 5 columns</p>\n",
       "</div>"
      ],
      "text/plain": [
       "                      EDVisitID  PatientID               VisitDate  \\\n",
       "Acuity EDDisposition                                                 \n",
       "1      Admitted               1          1 2020-01-01 00:00:00.000   \n",
       "2      Admitted              12         12 2020-01-01 02:45:40.302   \n",
       "3      Admitted              13         13 2020-01-01 03:09:24.701   \n",
       "       Admitted              14         14 2020-01-01 03:12:19.349   \n",
       "       Admitted              15         15 2020-01-01 03:46:32.698   \n",
       "...                         ...        ...                     ...   \n",
       "4      Discharged          1183        929 2020-01-15 10:38:42.570   \n",
       "1      Discharged          1186        932 2020-01-15 11:52:37.540   \n",
       "       Discharged          1187        933 2020-01-15 12:11:11.678   \n",
       "       Discharged          1188        934 2020-01-15 12:21:46.006   \n",
       "       Discharged          1189        935 2020-01-15 12:51:14.875   \n",
       "\n",
       "                             EDDischargeTime ReasonForVisit  \n",
       "Acuity EDDisposition                                         \n",
       "1      Admitted      2020-01-01 11:20:22.924   Stomach Ache  \n",
       "2      Admitted      2020-01-02 02:00:00.517       Migraine  \n",
       "3      Admitted      2020-01-01 05:00:20.852   Stomach Ache  \n",
       "       Admitted      2020-01-01 04:32:29.142       Migraine  \n",
       "       Admitted      2020-01-01 06:24:52.741     Chest Pain  \n",
       "...                                      ...            ...  \n",
       "4      Discharged    2020-01-16 02:31:52.023     Chest Pain  \n",
       "1      Discharged    2020-01-16 10:19:41.570      Pneumonia  \n",
       "       Discharged    2020-01-15 16:41:15.223      Pneumonia  \n",
       "       Discharged    2020-01-15 18:32:21.060      Pneumonia  \n",
       "       Discharged    2020-01-15 23:40:41.456      Pneumonia  \n",
       "\n",
       "[1199 rows x 5 columns]"
      ]
     },
     "execution_count": 77,
     "metadata": {},
     "output_type": "execute_result"
    }
   ],
   "source": [
    "df4=pd.read_excel('C:\\\\Users\\\\nvv29\\\\Downloads\\\\HospitalDatabase.xlsx',sheet_name='EDVisits')\n",
    "df4=df4.set_index(['Acuity','EDDisposition'])\n",
    "df4"
   ]
  },
  {
   "cell_type": "code",
   "execution_count": null,
   "id": "151e1ed5",
   "metadata": {},
   "outputs": [],
   "source": [
    "###85.Find count of Black/African American, English Females"
   ]
  },
  {
   "cell_type": "code",
   "execution_count": 87,
   "id": "51b446af",
   "metadata": {},
   "outputs": [
    {
     "data": {
      "text/plain": [
       "PatientID      119\n",
       "FirstName      119\n",
       "LastName       119\n",
       "DateOfBirth    119\n",
       "Gender         119\n",
       "Race           119\n",
       "Language       119\n",
       "dtype: int64"
      ]
     },
     "execution_count": 87,
     "metadata": {},
     "output_type": "execute_result"
    }
   ],
   "source": [
    "\n",
    "\n",
    "df=pd.read_excel('C:\\\\Users\\\\nvv29\\\\Downloads\\\\HospitalDatabase.xlsx',sheet_name='Patients')\n",
    "df1=df[(df.Race=='Black/African-American')&(df.Gender=='Female') &  (df.Language=='English')]\n",
    "df1\n",
    "df1.count()"
   ]
  },
  {
   "cell_type": "code",
   "execution_count": null,
   "id": "d580af1b",
   "metadata": {},
   "outputs": [],
   "source": [
    "###82. Retrieve the rows where SBP<140 and DBP<80"
   ]
  },
  {
   "cell_type": "code",
   "execution_count": 91,
   "id": "02200d7d",
   "metadata": {},
   "outputs": [
    {
     "data": {
      "text/html": [
       "<div>\n",
       "<style scoped>\n",
       "    .dataframe tbody tr th:only-of-type {\n",
       "        vertical-align: middle;\n",
       "    }\n",
       "\n",
       "    .dataframe tbody tr th {\n",
       "        vertical-align: top;\n",
       "    }\n",
       "\n",
       "    .dataframe thead th {\n",
       "        text-align: right;\n",
       "    }\n",
       "</style>\n",
       "<table border=\"1\" class=\"dataframe\">\n",
       "  <thead>\n",
       "    <tr style=\"text-align: right;\">\n",
       "      <th></th>\n",
       "      <th>VisitID</th>\n",
       "      <th>PatientMRN</th>\n",
       "      <th>ProviderID</th>\n",
       "      <th>DateofVisit</th>\n",
       "      <th>DateScheduled</th>\n",
       "      <th>VisitDepartmentID</th>\n",
       "      <th>VisitType</th>\n",
       "      <th>BloodPressureSystolic</th>\n",
       "      <th>BloodPressureDiastolic</th>\n",
       "      <th>Pulse</th>\n",
       "      <th>VisitStatus</th>\n",
       "    </tr>\n",
       "  </thead>\n",
       "  <tbody>\n",
       "    <tr>\n",
       "      <th>5</th>\n",
       "      <td>809</td>\n",
       "      <td>894</td>\n",
       "      <td>31</td>\n",
       "      <td>2019-03-13</td>\n",
       "      <td>2019-02-28 10:28:01.091</td>\n",
       "      <td>2</td>\n",
       "      <td>Physical</td>\n",
       "      <td>121.0</td>\n",
       "      <td>57.692485</td>\n",
       "      <td>60.402573</td>\n",
       "      <td>No Show</td>\n",
       "    </tr>\n",
       "    <tr>\n",
       "      <th>16</th>\n",
       "      <td>707</td>\n",
       "      <td>859</td>\n",
       "      <td>36</td>\n",
       "      <td>2019-03-16</td>\n",
       "      <td>2019-02-26 17:42:39.779</td>\n",
       "      <td>6</td>\n",
       "      <td>Follow Up</td>\n",
       "      <td>137.0</td>\n",
       "      <td>72.756586</td>\n",
       "      <td>64.071361</td>\n",
       "      <td>No Show</td>\n",
       "    </tr>\n",
       "    <tr>\n",
       "      <th>18</th>\n",
       "      <td>503</td>\n",
       "      <td>887</td>\n",
       "      <td>12</td>\n",
       "      <td>2019-01-21</td>\n",
       "      <td>2019-01-07 06:04:17.575</td>\n",
       "      <td>7</td>\n",
       "      <td>Follow Up</td>\n",
       "      <td>131.0</td>\n",
       "      <td>74.163851</td>\n",
       "      <td>97.248671</td>\n",
       "      <td>No Show</td>\n",
       "    </tr>\n",
       "    <tr>\n",
       "      <th>19</th>\n",
       "      <td>710</td>\n",
       "      <td>862</td>\n",
       "      <td>1</td>\n",
       "      <td>2019-03-19</td>\n",
       "      <td>2019-03-03 11:39:03.145</td>\n",
       "      <td>9</td>\n",
       "      <td>Telemedicine</td>\n",
       "      <td>127.0</td>\n",
       "      <td>66.406797</td>\n",
       "      <td>94.537837</td>\n",
       "      <td>No Show</td>\n",
       "    </tr>\n",
       "    <tr>\n",
       "      <th>23</th>\n",
       "      <td>711</td>\n",
       "      <td>863</td>\n",
       "      <td>1</td>\n",
       "      <td>2019-03-20</td>\n",
       "      <td>2019-03-10 07:34:56.766</td>\n",
       "      <td>10</td>\n",
       "      <td>Telemedicine</td>\n",
       "      <td>124.0</td>\n",
       "      <td>77.303553</td>\n",
       "      <td>77.926874</td>\n",
       "      <td>No Show</td>\n",
       "    </tr>\n",
       "    <tr>\n",
       "      <th>...</th>\n",
       "      <td>...</td>\n",
       "      <td>...</td>\n",
       "      <td>...</td>\n",
       "      <td>...</td>\n",
       "      <td>...</td>\n",
       "      <td>...</td>\n",
       "      <td>...</td>\n",
       "      <td>...</td>\n",
       "      <td>...</td>\n",
       "      <td>...</td>\n",
       "      <td>...</td>\n",
       "    </tr>\n",
       "    <tr>\n",
       "      <th>909</th>\n",
       "      <td>177</td>\n",
       "      <td>815</td>\n",
       "      <td>32</td>\n",
       "      <td>2019-02-22</td>\n",
       "      <td>2019-02-04 06:53:41.987</td>\n",
       "      <td>9</td>\n",
       "      <td>Follow Up</td>\n",
       "      <td>122.0</td>\n",
       "      <td>67.615828</td>\n",
       "      <td>52.742629</td>\n",
       "      <td>Canceled</td>\n",
       "    </tr>\n",
       "    <tr>\n",
       "      <th>929</th>\n",
       "      <td>786</td>\n",
       "      <td>871</td>\n",
       "      <td>34</td>\n",
       "      <td>2019-03-25</td>\n",
       "      <td>2019-02-26 09:48:42.832</td>\n",
       "      <td>3</td>\n",
       "      <td>Telemedicine</td>\n",
       "      <td>122.0</td>\n",
       "      <td>78.210501</td>\n",
       "      <td>53.760978</td>\n",
       "      <td>Canceled</td>\n",
       "    </tr>\n",
       "    <tr>\n",
       "      <th>932</th>\n",
       "      <td>394</td>\n",
       "      <td>623</td>\n",
       "      <td>6</td>\n",
       "      <td>2019-02-05</td>\n",
       "      <td>2019-01-10 05:43:34.544</td>\n",
       "      <td>9</td>\n",
       "      <td>Physical</td>\n",
       "      <td>130.0</td>\n",
       "      <td>75.114100</td>\n",
       "      <td>80.951071</td>\n",
       "      <td>Canceled</td>\n",
       "    </tr>\n",
       "    <tr>\n",
       "      <th>941</th>\n",
       "      <td>399</td>\n",
       "      <td>638</td>\n",
       "      <td>11</td>\n",
       "      <td>2019-02-10</td>\n",
       "      <td>2019-02-02 20:49:56.868</td>\n",
       "      <td>2</td>\n",
       "      <td>Physical</td>\n",
       "      <td>121.0</td>\n",
       "      <td>64.896818</td>\n",
       "      <td>68.496869</td>\n",
       "      <td>Canceled</td>\n",
       "    </tr>\n",
       "    <tr>\n",
       "      <th>943</th>\n",
       "      <td>403</td>\n",
       "      <td>650</td>\n",
       "      <td>15</td>\n",
       "      <td>2019-02-14</td>\n",
       "      <td>2019-02-11 00:47:42.216</td>\n",
       "      <td>6</td>\n",
       "      <td>Physical</td>\n",
       "      <td>129.0</td>\n",
       "      <td>68.506636</td>\n",
       "      <td>62.732434</td>\n",
       "      <td>Canceled</td>\n",
       "    </tr>\n",
       "  </tbody>\n",
       "</table>\n",
       "<p>103 rows × 11 columns</p>\n",
       "</div>"
      ],
      "text/plain": [
       "     VisitID  PatientMRN  ProviderID DateofVisit           DateScheduled  \\\n",
       "5        809         894          31  2019-03-13 2019-02-28 10:28:01.091   \n",
       "16       707         859          36  2019-03-16 2019-02-26 17:42:39.779   \n",
       "18       503         887          12  2019-01-21 2019-01-07 06:04:17.575   \n",
       "19       710         862           1  2019-03-19 2019-03-03 11:39:03.145   \n",
       "23       711         863           1  2019-03-20 2019-03-10 07:34:56.766   \n",
       "..       ...         ...         ...         ...                     ...   \n",
       "909      177         815          32  2019-02-22 2019-02-04 06:53:41.987   \n",
       "929      786         871          34  2019-03-25 2019-02-26 09:48:42.832   \n",
       "932      394         623           6  2019-02-05 2019-01-10 05:43:34.544   \n",
       "941      399         638          11  2019-02-10 2019-02-02 20:49:56.868   \n",
       "943      403         650          15  2019-02-14 2019-02-11 00:47:42.216   \n",
       "\n",
       "     VisitDepartmentID     VisitType  BloodPressureSystolic  \\\n",
       "5                    2      Physical                  121.0   \n",
       "16                   6     Follow Up                  137.0   \n",
       "18                   7     Follow Up                  131.0   \n",
       "19                   9  Telemedicine                  127.0   \n",
       "23                  10  Telemedicine                  124.0   \n",
       "..                 ...           ...                    ...   \n",
       "909                  9     Follow Up                  122.0   \n",
       "929                  3  Telemedicine                  122.0   \n",
       "932                  9      Physical                  130.0   \n",
       "941                  2      Physical                  121.0   \n",
       "943                  6      Physical                  129.0   \n",
       "\n",
       "     BloodPressureDiastolic      Pulse VisitStatus  \n",
       "5                 57.692485  60.402573     No Show  \n",
       "16                72.756586  64.071361     No Show  \n",
       "18                74.163851  97.248671     No Show  \n",
       "19                66.406797  94.537837     No Show  \n",
       "23                77.303553  77.926874     No Show  \n",
       "..                      ...        ...         ...  \n",
       "909               67.615828  52.742629    Canceled  \n",
       "929               78.210501  53.760978    Canceled  \n",
       "932               75.114100  80.951071    Canceled  \n",
       "941               64.896818  68.496869    Canceled  \n",
       "943               68.506636  62.732434    Canceled  \n",
       "\n",
       "[103 rows x 11 columns]"
      ]
     },
     "execution_count": 91,
     "metadata": {},
     "output_type": "execute_result"
    }
   ],
   "source": [
    "\n",
    "\n",
    "df3=pd.read_excel('C:\\\\Users\\\\nvv29\\\\Downloads\\\\HospitalDatabase.xlsx',sheet_name='AmbulatoryVisits')\n",
    "df5=df3[(df3.BloodPressureSystolic <140) &(df3.\tBloodPressureDiastolic <80)]\n",
    "df5\n"
   ]
  },
  {
   "cell_type": "code",
   "execution_count": null,
   "id": "0f66850c",
   "metadata": {},
   "outputs": [],
   "source": [
    "### 81.Display full name of patients"
   ]
  },
  {
   "cell_type": "code",
   "execution_count": 97,
   "id": "ce02bf94",
   "metadata": {},
   "outputs": [
    {
     "data": {
      "text/plain": [
       "0             Lanni Sue\n",
       "1             Far Myers\n",
       "2       Devlin  Michael\n",
       "3         Carmine Texas\n",
       "4            Tann  Bama\n",
       "             ...       \n",
       "940         Wat Fideler\n",
       "941     Wandie Baythrop\n",
       "942     Diahann Smeeton\n",
       "943    Panchito Sharple\n",
       "944        Walsh Calvie\n",
       "Length: 945, dtype: object"
      ]
     },
     "execution_count": 97,
     "metadata": {},
     "output_type": "execute_result"
    }
   ],
   "source": [
    "\n",
    "df=pd.read_excel('C:\\\\Users\\\\nvv29\\\\Downloads\\\\HospitalDatabase.xlsx',sheet_name='Patients')\n",
    "df1=df[\"FirstName\"] +' ' + df[\"LastName\"]\n",
    "df1"
   ]
  },
  {
   "cell_type": "code",
   "execution_count": null,
   "id": "52795d7f",
   "metadata": {},
   "outputs": [],
   "source": [
    "### 74.Get the list of ReasonForVisit"
   ]
  },
  {
   "cell_type": "code",
   "execution_count": 236,
   "id": "b77ca9e1",
   "metadata": {},
   "outputs": [
    {
     "data": {
      "text/plain": [
       "array(['Stomach Ache', 'Migraine', 'Chest Pain', 'Bleeding',\n",
       "       'Car Accident', 'Pneumonia', 'Fever', 'Shortness of Breath',\n",
       "       'Gun Shot', 'Accident', 'Laceration', 'Intoxication', 'Cough'],\n",
       "      dtype=object)"
      ]
     },
     "execution_count": 236,
     "metadata": {},
     "output_type": "execute_result"
    }
   ],
   "source": [
    "\n",
    "df4=pd.read_excel('C:\\\\Users\\\\nvv29\\\\Downloads\\\\HospitalDatabase.xlsx',sheet_name='EDVisits')\n",
    "df4['ReasonForVisit'].unique()\n"
   ]
  },
  {
   "cell_type": "code",
   "execution_count": null,
   "id": "180e798a",
   "metadata": {},
   "outputs": [],
   "source": [
    "### 56. Count of canceled status"
   ]
  },
  {
   "cell_type": "code",
   "execution_count": 149,
   "id": "4cfeb608",
   "metadata": {},
   "outputs": [
    {
     "data": {
      "text/plain": [
       "60"
      ]
     },
     "execution_count": 149,
     "metadata": {},
     "output_type": "execute_result"
    }
   ],
   "source": [
    "\n",
    "df3=pd.read_excel('C:\\\\Users\\\\nvv29\\\\Downloads\\\\HospitalDatabase.xlsx',sheet_name='AmbulatoryVisits')\n",
    "df=df3[(df3.VisitStatus=='Canceled')]\n",
    "df.VisitStatus.count()\n"
   ]
  },
  {
   "cell_type": "code",
   "execution_count": null,
   "id": "216f9a46",
   "metadata": {},
   "outputs": [],
   "source": [
    "###55. Create a bar chart on service & expected length of stay"
   ]
  },
  {
   "cell_type": "code",
   "execution_count": 117,
   "id": "424c1e78",
   "metadata": {},
   "outputs": [
    {
     "data": {
      "image/png": "[encoded data removed]",
      "text/plain": [
       "<Figure size 432x288 with 1 Axes>"
      ]
     },
     "metadata": {
      "needs_background": "light"
     },
     "output_type": "display_data"
    }
   ],
   "source": [
    "\n",
    "df2 = pd.read_excel('C:\\\\Users\\\\nvv29\\\\Downloads\\\\HospitalDatabase.xlsx',sheet_name='Discharges')\n",
    "g=sns.barplot(x='ExpectedLOS',y='Service',  data=df2)"
   ]
  },
  {
   "cell_type": "code",
   "execution_count": null,
   "id": "cf6daf83",
   "metadata": {},
   "outputs": [],
   "source": [
    "### 16.Plot a graph to show the distribution of expected length of stay"
   ]
  },
  {
   "cell_type": "code",
   "execution_count": 132,
   "id": "10f7c219",
   "metadata": {},
   "outputs": [
    {
     "data": {
      "text/plain": [
       "<seaborn.axisgrid.FacetGrid at 0x245b6d5c640>"
      ]
     },
     "execution_count": 132,
     "metadata": {},
     "output_type": "execute_result"
    },
    {
     "data": {
      "image/png": "[encoded data removed]",
      "text/plain": [
       "<Figure size 360x360 with 1 Axes>"
      ]
     },
     "metadata": {
      "needs_background": "light"
     },
     "output_type": "display_data"
    }
   ],
   "source": [
    "\n",
    "df2 = pd.read_excel('C:\\\\Users\\\\nvv29\\\\Downloads\\\\HospitalDatabase.xlsx',sheet_name='Discharges')\n",
    "sns.displot(df2.ExpectedLOS)"
   ]
  },
  {
   "cell_type": "code",
   "execution_count": null,
   "id": "7f0e5144",
   "metadata": {},
   "outputs": [],
   "source": [
    "###51. Display patient details where \"ReasonForVisit\" is either 'Migraine' or 'Pneumonia' and Acuity is 2 or more."
   ]
  },
  {
   "cell_type": "code",
   "execution_count": 146,
   "id": "1303e7eb",
   "metadata": {},
   "outputs": [
    {
     "data": {
      "text/plain": [
       "1        12\n",
       "3        14\n",
       "11       29\n",
       "12       30\n",
       "13       31\n",
       "       ... \n",
       "1162    870\n",
       "1175    897\n",
       "1182    908\n",
       "1184    910\n",
       "1189    924\n",
       "Name: PatientID, Length: 291, dtype: int64"
      ]
     },
     "execution_count": 146,
     "metadata": {},
     "output_type": "execute_result"
    }
   ],
   "source": [
    "\n",
    "df2 = pd.read_excel('C:\\\\Users\\\\nvv29\\\\Downloads\\\\HospitalDatabase.xlsx',sheet_name='EDVisits')\n",
    "df5=df2[(df2.ReasonForVisit =='Migraine' ) | (df2.ReasonForVisit =='Pneumonia') & (df2.Acuity>=2)]\n",
    "df5.PatientID"
   ]
  },
  {
   "cell_type": "code",
   "execution_count": null,
   "id": "3d4156e6",
   "metadata": {},
   "outputs": [],
   "source": [
    "###53.Take the ReasonForVisit from user, find the number of patients admitted with that ReasonForVisit"
   ]
  },
  {
   "cell_type": "code",
   "execution_count": 266,
   "id": "365ded8a",
   "metadata": {},
   "outputs": [
    {
     "name": "stdout",
     "output_type": "stream",
     "text": [
      "ReasonForVisit: Chest Pain\n"
     ]
    },
    {
     "data": {
      "text/plain": [
       "109"
      ]
     },
     "execution_count": 266,
     "metadata": {},
     "output_type": "execute_result"
    }
   ],
   "source": [
    " df2 = pd.read_excel('C:\\\\Users\\\\nvv29\\\\Downloads\\\\HospitalDatabase.xlsx',sheet_name='EDVisits')\n",
    " name = input(\"ReasonForVisit: \")\n",
    " df3=df2.query('ReasonForVisit == @name')\n",
    " df3.ReasonForVisit.count()"
   ]
  },
  {
   "cell_type": "code",
   "execution_count": null,
   "id": "f3308f22",
   "metadata": {},
   "outputs": [],
   "source": [
    "###78.Find reasonForVisit with highest count of acuity 5 patients"
   ]
  },
  {
   "cell_type": "code",
   "execution_count": null,
   "id": "1234992f",
   "metadata": {},
   "outputs": [],
   "source": [
    "\n",
    "df2 = pd.read_excel('C:\\\\Users\\\\nvv29\\\\Downloads\\\\HospitalDatabase.xlsx',sheet_name='EDVisits')\n",
    "df3=df2[(df2.Acuity==5)]\n",
    "df3.ReasonForVisit.max()"
   ]
  },
  {
   "cell_type": "code",
   "execution_count": 220,
   "id": "66dd30fe",
   "metadata": {},
   "outputs": [],
   "source": []
  },
  {
   "cell_type": "code",
   "execution_count": null,
   "id": "3f8bc14f",
   "metadata": {},
   "outputs": [],
   "source": []
  },
  {
   "cell_type": "code",
   "execution_count": null,
   "id": "2d4f2e78",
   "metadata": {},
   "outputs": [],
   "source": []
  }
 ],
 "metadata": {
  "kernelspec": {
   "display_name": "Python 3 (ipykernel)",
   "language": "python",
   "name": "python3"
  },
  "language_info": {
   "codemirror_mode": {
    "name": "ipython",
    "version": 3
   },
   "file_extension": ".py",
   "mimetype": "text/x-python",
   "name": "python",
   "nbconvert_exporter": "python",
   "pygments_lexer": "ipython3",
   "version": "3.9.7"
  }
 },
 "nbformat": 4,
 "nbformat_minor": 5
}
