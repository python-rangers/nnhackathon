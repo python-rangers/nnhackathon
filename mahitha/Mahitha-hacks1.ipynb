{
 "cells": [
  {
   "cell_type": "markdown",
   "metadata": {},
   "source": [
    "# Questions # : 5,9,29,31,34,35,32,23,46,50,39,43,30,37,47,64"
   ]
  },
  {
   "cell_type": "markdown",
   "metadata": {},
   "source": [
    "5.Display full name of patients who are born in 1986"
   ]
  },
  {
   "cell_type": "code",
   "execution_count": 1,
   "metadata": {},
   "outputs": [],
   "source": [
    "import pandas as pd\n",
    "import numpy as np"
   ]
  },
  {
   "cell_type": "code",
   "execution_count": 2,
   "metadata": {},
   "outputs": [
    {
     "data": {
      "text/plain": [
       "23         Gabriel Joseph\n",
       "24         Lincoln Brenda\n",
       "29             AlaHalpert\n",
       "72            LolitaDarci\n",
       "164         FadelBernardt\n",
       "238         BentleyKippax\n",
       "367            ValeOlanda\n",
       "373          BrittDureden\n",
       "386       CristabelChatel\n",
       "415       ConstantiaGroup\n",
       "452       MorganScrowston\n",
       "561             DomBaglow\n",
       "568        IgnazioMelling\n",
       "595         HomenickRings\n",
       "639           HashimSlark\n",
       "643       EllieRamsbotham\n",
       "674        LlewellynGroup\n",
       "714             NilesShaw\n",
       "733             YvetteInc\n",
       "777          SiouxieGroup\n",
       "852            CarlyGroup\n",
       "868        WorthPickering\n",
       "877           ArniBaldack\n",
       "909       KuvalisCoupland\n",
       "922    RebbeccaRollingson\n",
       "940            WatFideler\n",
       "dtype: object"
      ]
     },
     "execution_count": 2,
     "metadata": {},
     "output_type": "execute_result"
    }
   ],
   "source": [
    "#reading patients data\n",
    "df1 = pd.read_excel('HospitalDatabase.xlsx') \n",
    "#df1.info()\n",
    "#extracting year from date of birth\n",
    "df1['year'] = df1['DateOfBirth'].dt.year\n",
    "#extracting firstname and lastname whose dob is 1986\n",
    "names = (df1['FirstName'] + df1 ['LastName']).where (df1['year'] == 1986)\n",
    "names.dropna()"
   ]
  },
  {
   "cell_type": "markdown",
   "metadata": {},
   "source": [
    "9.Get the list of patient ids which are not there in ReadmissionRegistry"
   ]
  },
  {
   "cell_type": "code",
   "execution_count": 3,
   "metadata": {},
   "outputs": [
    {
     "data": {
      "text/plain": [
       "[4,\n",
       " 135,\n",
       " 145,\n",
       " 189,\n",
       " 200,\n",
       " 224,\n",
       " 234,\n",
       " 374,\n",
       " 378,\n",
       " 379,\n",
       " 380,\n",
       " 381,\n",
       " 382,\n",
       " 383,\n",
       " 384,\n",
       " 385,\n",
       " 386,\n",
       " 387,\n",
       " 388,\n",
       " 389,\n",
       " 390,\n",
       " 391,\n",
       " 392,\n",
       " 393,\n",
       " 394,\n",
       " 395,\n",
       " 396,\n",
       " 397,\n",
       " 398,\n",
       " 399,\n",
       " 414,\n",
       " 501,\n",
       " 562,\n",
       " 599,\n",
       " 690,\n",
       " 691,\n",
       " 704,\n",
       " 726,\n",
       " 743,\n",
       " 744,\n",
       " 745,\n",
       " 746,\n",
       " 747,\n",
       " 748,\n",
       " 749,\n",
       " 750,\n",
       " 751,\n",
       " 752,\n",
       " 753,\n",
       " 754,\n",
       " 755,\n",
       " 756,\n",
       " 757,\n",
       " 758,\n",
       " 759,\n",
       " 760,\n",
       " 761,\n",
       " 762,\n",
       " 763,\n",
       " 764,\n",
       " 765,\n",
       " 766,\n",
       " 767,\n",
       " 768,\n",
       " 769,\n",
       " 770,\n",
       " 771,\n",
       " 772,\n",
       " 773,\n",
       " 774,\n",
       " 775,\n",
       " 776,\n",
       " 777,\n",
       " 778,\n",
       " 779,\n",
       " 780,\n",
       " 781,\n",
       " 782,\n",
       " 783,\n",
       " 784,\n",
       " 785,\n",
       " 786,\n",
       " 787,\n",
       " 788,\n",
       " 789,\n",
       " 790,\n",
       " 791,\n",
       " 792,\n",
       " 793,\n",
       " 794,\n",
       " 795,\n",
       " 796,\n",
       " 797,\n",
       " 798,\n",
       " 799,\n",
       " 800,\n",
       " 801,\n",
       " 802,\n",
       " 803,\n",
       " 804,\n",
       " 805,\n",
       " 806,\n",
       " 807,\n",
       " 808,\n",
       " 809,\n",
       " 810,\n",
       " 811,\n",
       " 812,\n",
       " 813,\n",
       " 814,\n",
       " 815,\n",
       " 816,\n",
       " 817,\n",
       " 818,\n",
       " 819,\n",
       " 820,\n",
       " 821,\n",
       " 822,\n",
       " 823,\n",
       " 824,\n",
       " 825,\n",
       " 826,\n",
       " 827,\n",
       " 828,\n",
       " 829,\n",
       " 830,\n",
       " 831,\n",
       " 832,\n",
       " 833,\n",
       " 834,\n",
       " 835,\n",
       " 836,\n",
       " 837,\n",
       " 838,\n",
       " 839,\n",
       " 840,\n",
       " 841,\n",
       " 842,\n",
       " 843,\n",
       " 844,\n",
       " 845,\n",
       " 846,\n",
       " 847,\n",
       " 848,\n",
       " 849,\n",
       " 850,\n",
       " 851,\n",
       " 852,\n",
       " 853,\n",
       " 854,\n",
       " 855,\n",
       " 856,\n",
       " 857,\n",
       " 858,\n",
       " 859,\n",
       " 860,\n",
       " 861,\n",
       " 862,\n",
       " 863,\n",
       " 864,\n",
       " 865,\n",
       " 866,\n",
       " 867,\n",
       " 868,\n",
       " 869,\n",
       " 870,\n",
       " 871,\n",
       " 872,\n",
       " 873,\n",
       " 874,\n",
       " 875,\n",
       " 876,\n",
       " 877,\n",
       " 878,\n",
       " 879,\n",
       " 880,\n",
       " 881,\n",
       " 882,\n",
       " 883,\n",
       " 884,\n",
       " 885,\n",
       " 886,\n",
       " 887,\n",
       " 888,\n",
       " 889,\n",
       " 890,\n",
       " 891,\n",
       " 892,\n",
       " 893,\n",
       " 894,\n",
       " 895,\n",
       " 896,\n",
       " 897,\n",
       " 898,\n",
       " 899,\n",
       " 900,\n",
       " 901,\n",
       " 902,\n",
       " 903,\n",
       " 904,\n",
       " 905,\n",
       " 906,\n",
       " 907,\n",
       " 908,\n",
       " 909,\n",
       " 910,\n",
       " 911,\n",
       " 912,\n",
       " 913,\n",
       " 914,\n",
       " 915,\n",
       " 916,\n",
       " 917,\n",
       " 918,\n",
       " 919,\n",
       " 920,\n",
       " 921,\n",
       " 922,\n",
       " 923,\n",
       " 924,\n",
       " 925,\n",
       " 926,\n",
       " 927,\n",
       " 928,\n",
       " 929,\n",
       " 930,\n",
       " 931,\n",
       " 932,\n",
       " 933,\n",
       " 934,\n",
       " 935,\n",
       " 936,\n",
       " 937,\n",
       " 938,\n",
       " 939,\n",
       " 940,\n",
       " 941,\n",
       " 942,\n",
       " 943,\n",
       " 944,\n",
       " 945]"
      ]
     },
     "execution_count": 3,
     "metadata": {},
     "output_type": "execute_result"
    }
   ],
   "source": [
    "df = pd.read_excel('HospitalDatabase.xlsx',sheet_name = 'ReAdmissionRegistry')\n",
    "df['PatientID'].unique()\n",
    "df1['PatientID'].unique() \n",
    "df1['NoReadmit'] = ~df1.PatientID.isin(df.PatientID)\n",
    "NoReadmit = df1['PatientID'].where(df1['NoReadmit']== True).dropna().astype(int)\n",
    "NoReadmit.unique().tolist()"
   ]
  },
  {
   "cell_type": "markdown",
   "metadata": {},
   "source": [
    "29.Calculate average LOS"
   ]
  },
  {
   "cell_type": "code",
   "execution_count": 4,
   "metadata": {},
   "outputs": [
    {
     "data": {
      "text/plain": [
       "8.82458915915616"
      ]
     },
     "execution_count": 4,
     "metadata": {},
     "output_type": "execute_result"
    }
   ],
   "source": [
    "df3 =  pd.read_excel('HospitalDatabase.xlsx',sheet_name = 'Discharges')\n",
    "df3['ExpectedLOS'].mean()"
   ]
  },
  {
   "cell_type": "code",
   "execution_count": 5,
   "metadata": {},
   "outputs": [
    {
     "data": {
      "text/plain": [
       "8.824589159156156"
      ]
     },
     "execution_count": 5,
     "metadata": {},
     "output_type": "execute_result"
    }
   ],
   "source": [
    "df['ExpectedLOS'].mean()"
   ]
  },
  {
   "cell_type": "markdown",
   "metadata": {},
   "source": [
    "31.Find count of White Spanish Male"
   ]
  },
  {
   "cell_type": "code",
   "execution_count": 6,
   "metadata": {},
   "outputs": [
    {
     "name": "stdout",
     "output_type": "stream",
     "text": [
      "The count of White Spanish Male is  15\n"
     ]
    }
   ],
   "source": [
    "print(\"The count of White Spanish Male is \",len(df1.loc[(df1['Language'] == 'Spanish') & (df1['Gender'] == 'Male') & (df1['Race']== 'White')]))"
   ]
  },
  {
   "cell_type": "markdown",
   "metadata": {},
   "source": [
    "34.np.arange(1,31).reshape(6,5) Find the array slicing to get the elements with values 11,12,16,17"
   ]
  },
  {
   "cell_type": "code",
   "execution_count": 7,
   "metadata": {},
   "outputs": [
    {
     "data": {
      "text/plain": [
       "array([[11, 12],\n",
       "       [16, 17]])"
      ]
     },
     "execution_count": 7,
     "metadata": {},
     "output_type": "execute_result"
    }
   ],
   "source": [
    "x = np.arange(1,31).reshape(6,5)\n",
    "x[2:4,0:2]"
   ]
  },
  {
   "cell_type": "markdown",
   "metadata": {},
   "source": [
    "35.np.arange(1,31).reshape(6,5), find array slicing for elements 2,8,14,20"
   ]
  },
  {
   "cell_type": "code",
   "execution_count": 8,
   "metadata": {},
   "outputs": [
    {
     "data": {
      "text/plain": [
       "array([ 2,  8, 14, 20])"
      ]
     },
     "execution_count": 8,
     "metadata": {},
     "output_type": "execute_result"
    }
   ],
   "source": [
    "y = np.arange(1,31).reshape(6,5)\n",
    "np.diagonal(y[0:4,1:5])"
   ]
  },
  {
   "cell_type": "markdown",
   "metadata": {},
   "source": [
    "32.Write a function to print the table of the given number"
   ]
  },
  {
   "cell_type": "code",
   "execution_count": 9,
   "metadata": {},
   "outputs": [
    {
     "name": "stdout",
     "output_type": "stream",
     "text": [
      "Enter the number: 11\n",
      "11 x 1 = 11\n",
      "11 x 2 = 22\n",
      "11 x 3 = 33\n",
      "11 x 4 = 44\n",
      "11 x 5 = 55\n",
      "11 x 6 = 66\n",
      "11 x 7 = 77\n",
      "11 x 8 = 88\n",
      "11 x 9 = 99\n",
      "11 x 10 = 110\n"
     ]
    }
   ],
   "source": [
    "number = int(input(\"Enter the number: \"))\n",
    "for count in range(1, 11):\n",
    "    print(number, 'x', count, '=', number * count)"
   ]
  },
  {
   "cell_type": "markdown",
   "metadata": {},
   "source": [
    "23.Function to find the center element in the list. (1 element in odd length list, 2 elements in even length list)"
   ]
  },
  {
   "cell_type": "code",
   "execution_count": 11,
   "metadata": {},
   "outputs": [
    {
     "name": "stdout",
     "output_type": "stream",
     "text": [
      "Enter number of elements : 5\n",
      "99\n",
      "33\n",
      "11\n",
      "22\n",
      "44\n",
      "[99, 33, 11, 22, 44]\n",
      "Center element is  11\n"
     ]
    }
   ],
   "source": [
    "lst = []\n",
    "n = int(input(\"Enter number of elements : \"))\n",
    "for i in range(0, n):\n",
    "    ele = int(input())\n",
    "    lst.append(ele)  \n",
    "print(lst)\n",
    "if len(lst) % 2 != 0 :\n",
    "    print(\"Center element is \",lst[int(len(lst)/2)])\n",
    "else:\n",
    "    print(\"Center elements are \",(lst[int(((len(lst))-1)/2)],lst[int(len(lst)/2)]))"
   ]
  },
  {
   "cell_type": "markdown",
   "metadata": {},
   "source": [
    "46.Write a code to split a sentence into words using regex"
   ]
  },
  {
   "cell_type": "code",
   "execution_count": 12,
   "metadata": {},
   "outputs": [
    {
     "data": {
      "text/plain": [
       "['This', 'is', 'numpyninja', 'hackathon']"
      ]
     },
     "execution_count": 12,
     "metadata": {},
     "output_type": "execute_result"
    }
   ],
   "source": [
    "import re\n",
    "sentence = 'This is numpyninja hackathon'\n",
    "words = re.split(' ',sentence)\n",
    "words"
   ]
  },
  {
   "cell_type": "markdown",
   "metadata": {},
   "source": [
    "50.Which departmentID has maximum number of visits scheduled."
   ]
  },
  {
   "cell_type": "code",
   "execution_count": 13,
   "metadata": {},
   "outputs": [
    {
     "name": "stdout",
     "output_type": "stream",
     "text": [
      "Department with maximum number of visits scheduled is  11\n"
     ]
    }
   ],
   "source": [
    "df4 = pd.read_excel('HospitalDatabase.xlsx',sheet_name = 'AmbulatoryVisits')\n",
    "print('Department with maximum number of visits scheduled is ',df4['VisitDepartmentID'].value_counts().idxmax())"
   ]
  },
  {
   "cell_type": "markdown",
   "metadata": {},
   "source": [
    "39.Get the FirstName, LastName,DateOfBirth of the Patients whose reason for visit is Migraine. \n",
    "Use EDUnique Sheet for reason for visit"
   ]
  },
  {
   "cell_type": "code",
   "execution_count": 14,
   "metadata": {},
   "outputs": [
    {
     "data": {
      "text/html": [
       "<div>\n",
       "<style scoped>\n",
       "    .dataframe tbody tr th:only-of-type {\n",
       "        vertical-align: middle;\n",
       "    }\n",
       "\n",
       "    .dataframe tbody tr th {\n",
       "        vertical-align: top;\n",
       "    }\n",
       "\n",
       "    .dataframe thead th {\n",
       "        text-align: right;\n",
       "    }\n",
       "</style>\n",
       "<table border=\"1\" class=\"dataframe\">\n",
       "  <thead>\n",
       "    <tr style=\"text-align: right;\">\n",
       "      <th></th>\n",
       "      <th>FirstName</th>\n",
       "      <th>LastName</th>\n",
       "      <th>DateOfBirth</th>\n",
       "      <th>ReasonForVisit</th>\n",
       "    </tr>\n",
       "  </thead>\n",
       "  <tbody>\n",
       "    <tr>\n",
       "      <th>1</th>\n",
       "      <td>Far</td>\n",
       "      <td>Myers</td>\n",
       "      <td>1985-11-15 02:08:42.090</td>\n",
       "      <td>Migraine</td>\n",
       "    </tr>\n",
       "    <tr>\n",
       "      <th>2</th>\n",
       "      <td>Devlin</td>\n",
       "      <td>Michael</td>\n",
       "      <td>1976-04-15 02:52:09.762</td>\n",
       "      <td>Migraine</td>\n",
       "    </tr>\n",
       "    <tr>\n",
       "      <th>11</th>\n",
       "      <td>Zonnya</td>\n",
       "      <td>Ab</td>\n",
       "      <td>1963-05-23 10:04:33.074</td>\n",
       "      <td>Migraine</td>\n",
       "    </tr>\n",
       "    <tr>\n",
       "      <th>13</th>\n",
       "      <td>Gan</td>\n",
       "      <td>Yu</td>\n",
       "      <td>1970-06-02 06:22:54.675</td>\n",
       "      <td>Migraine</td>\n",
       "    </tr>\n",
       "    <tr>\n",
       "      <th>21</th>\n",
       "      <td>Joesph</td>\n",
       "      <td>Long</td>\n",
       "      <td>1979-12-04 16:45:56.080</td>\n",
       "      <td>Migraine</td>\n",
       "    </tr>\n",
       "    <tr>\n",
       "      <th>...</th>\n",
       "      <td>...</td>\n",
       "      <td>...</td>\n",
       "      <td>...</td>\n",
       "      <td>...</td>\n",
       "    </tr>\n",
       "    <tr>\n",
       "      <th>896</th>\n",
       "      <td>Barrows</td>\n",
       "      <td>Coupland</td>\n",
       "      <td>1979-10-31 18:28:35.483</td>\n",
       "      <td>Migraine</td>\n",
       "    </tr>\n",
       "    <tr>\n",
       "      <th>907</th>\n",
       "      <td>Knox</td>\n",
       "      <td>Group</td>\n",
       "      <td>1975-08-25 22:27:50.177</td>\n",
       "      <td>Migraine</td>\n",
       "    </tr>\n",
       "    <tr>\n",
       "      <th>909</th>\n",
       "      <td>Kuvalis</td>\n",
       "      <td>Coupland</td>\n",
       "      <td>1986-05-23 19:23:27.752</td>\n",
       "      <td>Migraine</td>\n",
       "    </tr>\n",
       "    <tr>\n",
       "      <th>914</th>\n",
       "      <td>Jerrilyn</td>\n",
       "      <td>Dyson</td>\n",
       "      <td>1978-01-18 02:41:55.178</td>\n",
       "      <td>Migraine</td>\n",
       "    </tr>\n",
       "    <tr>\n",
       "      <th>923</th>\n",
       "      <td>Daniel</td>\n",
       "      <td>Shakesby</td>\n",
       "      <td>1980-11-28 17:57:03.702</td>\n",
       "      <td>Migraine</td>\n",
       "    </tr>\n",
       "  </tbody>\n",
       "</table>\n",
       "<p>116 rows × 4 columns</p>\n",
       "</div>"
      ],
      "text/plain": [
       "    FirstName  LastName             DateOfBirth ReasonForVisit\n",
       "1         Far     Myers 1985-11-15 02:08:42.090       Migraine\n",
       "2     Devlin    Michael 1976-04-15 02:52:09.762       Migraine\n",
       "11     Zonnya        Ab 1963-05-23 10:04:33.074       Migraine\n",
       "13        Gan        Yu 1970-06-02 06:22:54.675       Migraine\n",
       "21     Joesph      Long 1979-12-04 16:45:56.080       Migraine\n",
       "..        ...       ...                     ...            ...\n",
       "896   Barrows  Coupland 1979-10-31 18:28:35.483       Migraine\n",
       "907      Knox     Group 1975-08-25 22:27:50.177       Migraine\n",
       "909   Kuvalis  Coupland 1986-05-23 19:23:27.752       Migraine\n",
       "914  Jerrilyn     Dyson 1978-01-18 02:41:55.178       Migraine\n",
       "923    Daniel  Shakesby 1980-11-28 17:57:03.702       Migraine\n",
       "\n",
       "[116 rows x 4 columns]"
      ]
     },
     "execution_count": 14,
     "metadata": {},
     "output_type": "execute_result"
    }
   ],
   "source": [
    "df5 = pd.read_excel('HospitalDatabase.xlsx',sheet_name = 'EDUnique')\n",
    "Migraine_df = pd.merge(df1, df5, on = 'PatientID')\n",
    "Migraine_df1 = Migraine_df.loc[Migraine_df['ReasonForVisit'] == 'Migraine']\n",
    "Migraine_df1[['FirstName','LastName','DateOfBirth','ReasonForVisit']]"
   ]
  },
  {
   "cell_type": "markdown",
   "metadata": {},
   "source": [
    "43.Write a regular expression to find all the digits and numbers in the string"
   ]
  },
  {
   "cell_type": "code",
   "execution_count": 15,
   "metadata": {},
   "outputs": [
    {
     "name": "stdout",
     "output_type": "stream",
     "text": [
      "1 2 3 4 5 6 7 8 9\n"
     ]
    }
   ],
   "source": [
    "import re\n",
    "def findNumbers(str):\n",
    "    array = re.findall(r'[0-9]+', str)\n",
    "    return array\n",
    "  \n",
    "str = \"a1b2c3e4d5e6f7g8h9\"\n",
    "array = findNumbers(str)\n",
    "print(*array)"
   ]
  },
  {
   "cell_type": "markdown",
   "metadata": {},
   "source": [
    "30.Which patientid has most entries in readmission registry"
   ]
  },
  {
   "cell_type": "code",
   "execution_count": 16,
   "metadata": {},
   "outputs": [
    {
     "name": "stdout",
     "output_type": "stream",
     "text": [
      "The Patient Id with most entries in readmission registry is  23\n"
     ]
    }
   ],
   "source": [
    "print(\"The Patient Id with most entries in readmission registry is \",df['PatientID'].value_counts().idxmax())"
   ]
  },
  {
   "cell_type": "markdown",
   "metadata": {},
   "source": [
    "37.Write a function to print all the upper case letter of a given sentence"
   ]
  },
  {
   "cell_type": "code",
   "execution_count": 17,
   "metadata": {},
   "outputs": [
    {
     "name": "stdout",
     "output_type": "stream",
     "text": [
      "The uppercase characters in are :  ['N', 'N', 'H', 'A', 'K']\n"
     ]
    }
   ],
   "source": [
    "sentence = \"Numpy Ninja HAcKathon\"\n",
    "caps = list(filter(lambda c: c.isupper(), sentence)) \n",
    "print(\"The uppercase characters in are : \" ,caps)"
   ]
  },
  {
   "cell_type": "markdown",
   "metadata": {},
   "source": [
    "47.Using indexing ,loc ,retrieve the row with maximum BloodPressureSystolic"
   ]
  },
  {
   "cell_type": "code",
   "execution_count": 18,
   "metadata": {},
   "outputs": [
    {
     "data": {
      "text/html": [
       "<div>\n",
       "<style scoped>\n",
       "    .dataframe tbody tr th:only-of-type {\n",
       "        vertical-align: middle;\n",
       "    }\n",
       "\n",
       "    .dataframe tbody tr th {\n",
       "        vertical-align: top;\n",
       "    }\n",
       "\n",
       "    .dataframe thead th {\n",
       "        text-align: right;\n",
       "    }\n",
       "</style>\n",
       "<table border=\"1\" class=\"dataframe\">\n",
       "  <thead>\n",
       "    <tr style=\"text-align: right;\">\n",
       "      <th></th>\n",
       "      <th>VisitID</th>\n",
       "      <th>PatientMRN</th>\n",
       "      <th>ProviderID</th>\n",
       "      <th>DateofVisit</th>\n",
       "      <th>DateScheduled</th>\n",
       "      <th>VisitDepartmentID</th>\n",
       "      <th>VisitType</th>\n",
       "      <th>BloodPressureSystolic</th>\n",
       "      <th>BloodPressureDiastolic</th>\n",
       "      <th>Pulse</th>\n",
       "      <th>VisitStatus</th>\n",
       "    </tr>\n",
       "  </thead>\n",
       "  <tbody>\n",
       "    <tr>\n",
       "      <th>236</th>\n",
       "      <td>933</td>\n",
       "      <td>884</td>\n",
       "      <td>27</td>\n",
       "      <td>2019-02-14</td>\n",
       "      <td>2019-01-22 19:26:49.163</td>\n",
       "      <td>12</td>\n",
       "      <td>Telemedicine</td>\n",
       "      <td>190.0</td>\n",
       "      <td>143.989174</td>\n",
       "      <td>74.976879</td>\n",
       "      <td>Completed</td>\n",
       "    </tr>\n",
       "    <tr>\n",
       "      <th>251</th>\n",
       "      <td>888</td>\n",
       "      <td>906</td>\n",
       "      <td>24</td>\n",
       "      <td>2019-03-31</td>\n",
       "      <td>2019-03-17 23:21:17.361</td>\n",
       "      <td>10</td>\n",
       "      <td>New</td>\n",
       "      <td>190.0</td>\n",
       "      <td>137.207999</td>\n",
       "      <td>52.666922</td>\n",
       "      <td>Completed</td>\n",
       "    </tr>\n",
       "    <tr>\n",
       "      <th>424</th>\n",
       "      <td>314</td>\n",
       "      <td>63</td>\n",
       "      <td>7</td>\n",
       "      <td>2019-04-05</td>\n",
       "      <td>2019-03-24 22:31:26.092</td>\n",
       "      <td>11</td>\n",
       "      <td>Telemedicine</td>\n",
       "      <td>190.0</td>\n",
       "      <td>121.539859</td>\n",
       "      <td>95.471260</td>\n",
       "      <td>Completed</td>\n",
       "    </tr>\n",
       "    <tr>\n",
       "      <th>432</th>\n",
       "      <td>740</td>\n",
       "      <td>892</td>\n",
       "      <td>31</td>\n",
       "      <td>2019-03-14</td>\n",
       "      <td>2019-03-11 15:08:33.963</td>\n",
       "      <td>8</td>\n",
       "      <td>Physical</td>\n",
       "      <td>190.0</td>\n",
       "      <td>145.343479</td>\n",
       "      <td>94.849021</td>\n",
       "      <td>Completed</td>\n",
       "    </tr>\n",
       "    <tr>\n",
       "      <th>677</th>\n",
       "      <td>929</td>\n",
       "      <td>880</td>\n",
       "      <td>23</td>\n",
       "      <td>2019-02-10</td>\n",
       "      <td>2019-01-22 13:32:14.549</td>\n",
       "      <td>8</td>\n",
       "      <td>Follow Up</td>\n",
       "      <td>190.0</td>\n",
       "      <td>144.313400</td>\n",
       "      <td>82.781940</td>\n",
       "      <td>Completed</td>\n",
       "    </tr>\n",
       "    <tr>\n",
       "      <th>869</th>\n",
       "      <td>839</td>\n",
       "      <td>857</td>\n",
       "      <td>12</td>\n",
       "      <td>2019-03-17</td>\n",
       "      <td>2019-02-23 09:05:43.676</td>\n",
       "      <td>8</td>\n",
       "      <td>Follow Up</td>\n",
       "      <td>190.0</td>\n",
       "      <td>130.997386</td>\n",
       "      <td>71.829542</td>\n",
       "      <td>Completed</td>\n",
       "    </tr>\n",
       "    <tr>\n",
       "      <th>934</th>\n",
       "      <td>482</td>\n",
       "      <td>866</td>\n",
       "      <td>14</td>\n",
       "      <td>2019-05-04</td>\n",
       "      <td>2019-04-13 07:54:49.580</td>\n",
       "      <td>5</td>\n",
       "      <td>New</td>\n",
       "      <td>190.0</td>\n",
       "      <td>124.736359</td>\n",
       "      <td>69.731779</td>\n",
       "      <td>Canceled</td>\n",
       "    </tr>\n",
       "  </tbody>\n",
       "</table>\n",
       "</div>"
      ],
      "text/plain": [
       "     VisitID  PatientMRN  ProviderID DateofVisit           DateScheduled  \\\n",
       "236      933         884          27  2019-02-14 2019-01-22 19:26:49.163   \n",
       "251      888         906          24  2019-03-31 2019-03-17 23:21:17.361   \n",
       "424      314          63           7  2019-04-05 2019-03-24 22:31:26.092   \n",
       "432      740         892          31  2019-03-14 2019-03-11 15:08:33.963   \n",
       "677      929         880          23  2019-02-10 2019-01-22 13:32:14.549   \n",
       "869      839         857          12  2019-03-17 2019-02-23 09:05:43.676   \n",
       "934      482         866          14  2019-05-04 2019-04-13 07:54:49.580   \n",
       "\n",
       "     VisitDepartmentID     VisitType  BloodPressureSystolic  \\\n",
       "236                 12  Telemedicine                  190.0   \n",
       "251                 10           New                  190.0   \n",
       "424                 11  Telemedicine                  190.0   \n",
       "432                  8      Physical                  190.0   \n",
       "677                  8     Follow Up                  190.0   \n",
       "869                  8     Follow Up                  190.0   \n",
       "934                  5           New                  190.0   \n",
       "\n",
       "     BloodPressureDiastolic      Pulse VisitStatus  \n",
       "236              143.989174  74.976879   Completed  \n",
       "251              137.207999  52.666922   Completed  \n",
       "424              121.539859  95.471260   Completed  \n",
       "432              145.343479  94.849021   Completed  \n",
       "677              144.313400  82.781940   Completed  \n",
       "869              130.997386  71.829542   Completed  \n",
       "934              124.736359  69.731779    Canceled  "
      ]
     },
     "execution_count": 18,
     "metadata": {},
     "output_type": "execute_result"
    }
   ],
   "source": [
    "df4.loc[df4.BloodPressureSystolic == df4.BloodPressureSystolic.max()]"
   ]
  },
  {
   "cell_type": "markdown",
   "metadata": {},
   "source": [
    "64.\"Using numpy functions, multiply the following arrays\n",
    "a=np.arange(6).reshape(2,3)\n",
    "b=np.arange(6).reshape(3,2)\""
   ]
  },
  {
   "cell_type": "code",
   "execution_count": 19,
   "metadata": {},
   "outputs": [
    {
     "data": {
      "text/plain": [
       "array([[0, 1, 2],\n",
       "       [3, 4, 5]])"
      ]
     },
     "execution_count": 19,
     "metadata": {},
     "output_type": "execute_result"
    }
   ],
   "source": [
    "a=np.arange(6).reshape(2,3)\n",
    "b=np.arange(6).reshape(3,2)\n",
    "np.dot(a,b)\n",
    "np.matmul(a,b)\n",
    "a"
   ]
  },
  {
   "cell_type": "code",
   "execution_count": null,
   "metadata": {},
   "outputs": [],
   "source": []
  }
 ],
 "metadata": {
  "kernelspec": {
   "display_name": "Python 3",
   "language": "python",
   "name": "python3"
  },
  "language_info": {
   "codemirror_mode": {
    "name": "ipython",
    "version": 3
   },
   "file_extension": ".py",
   "mimetype": "text/x-python",
   "name": "python",
   "nbconvert_exporter": "python",
   "pygments_lexer": "ipython3",
   "version": "3.8.5"
  }
 },
 "nbformat": 4,
 "nbformat_minor": 4
}
